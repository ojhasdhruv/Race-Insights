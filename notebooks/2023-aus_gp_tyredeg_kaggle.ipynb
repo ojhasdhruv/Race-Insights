{
 "cells": [
  {
   "cell_type": "markdown",
   "id": "8c22c47c-5584-4fea-aa05-1267f46f7928",
   "metadata": {},
   "source": [
    "# **PART I - DATA AND PRELEMINARY WORK**"
   ]
  },
  {
   "cell_type": "code",
   "execution_count": 39,
   "id": "eae85b97-83e7-4fda-806e-e6a4746178c4",
   "metadata": {},
   "outputs": [],
   "source": [
    "import pandas as pd\n",
    "from pathlib import Path\n",
    "import matplotlib.pyplot as plt\n",
    "from sklearn.linear_model import LinearRegression\n",
    "import numpy as np\n",
    "\n",
    "DATA = Path(\"../data/ergast\")"
   ]
  },
  {
   "cell_type": "code",
   "execution_count": 40,
   "id": "584dd7e4-3fed-4823-8194-696a3808afb3",
   "metadata": {},
   "outputs": [],
   "source": [
    "laps = pd.read_csv(DATA / \"lap_times.csv\")\n",
    "pits = pd.read_csv(DATA / \"pit_stops.csv\")\n",
    "races = pd.read_csv(DATA / \"races.csv\")\n",
    "drivers = pd.read_csv(DATA / \"drivers.csv\")[[\"driverId\", \"surname\"]]"
   ]
  },
  {
   "cell_type": "code",
   "execution_count": 41,
   "id": "21b67c09-ad6f-4b0e-9a75-9ea134d6cee1",
   "metadata": {},
   "outputs": [
    {
     "name": "stdout",
     "output_type": "stream",
     "text": [
      "Loaded race_id 1100 for 2023 round 3\n"
     ]
    }
   ],
   "source": [
    "YEAR, ROUND = 2023, 3\n",
    "race_id = races.query(\"year==@YEAR and round==@ROUND\").raceId.iloc[0]\n",
    "print(f\"Loaded race_id {race_id} for {YEAR} round {ROUND}\")"
   ]
  },
  {
   "cell_type": "code",
   "execution_count": 42,
   "id": "af0cf3ab-085b-42d0-b7db-570d2615c3e0",
   "metadata": {},
   "outputs": [],
   "source": [
    "race_laps = laps[laps.raceId == race_id].copy()\n",
    "race_pits = pits[pits.raceId == race_id][[\"driverId\", \"lap\"]]"
   ]
  },
  {
   "cell_type": "code",
   "execution_count": 43,
   "id": "d7723f94-9af1-459d-8863-f3d659fc9877",
   "metadata": {},
   "outputs": [],
   "source": [
    "#marking pit stops\n",
    "race_laps = race_laps.merge(race_pits.assign(pit=1), on=[\"driverId\", \"lap\"], how=\"left\")\n",
    "race_laps[\"pit\"] = race_laps[\"pit\"].fillna(0)"
   ]
  },
  {
   "cell_type": "code",
   "execution_count": 44,
   "id": "a4351f0f-60a2-44e0-b638-48be6e39b63d",
   "metadata": {},
   "outputs": [],
   "source": [
    "#building stint and tyre age\n",
    "race_laps[\"stint\"] = race_laps.groupby(\"driverId\")[\"pit\"].cumsum()\n",
    "race_laps[\"tyre_age\"] = race_laps.groupby([\"driverId\",\"stint\"]).cumcount()"
   ]
  },
  {
   "cell_type": "code",
   "execution_count": 45,
   "id": "926a0183-b8b8-475a-a647-8e5d89b72da1",
   "metadata": {},
   "outputs": [
    {
     "data": {
      "text/html": [
       "<div>\n",
       "<style scoped>\n",
       "    .dataframe tbody tr th:only-of-type {\n",
       "        vertical-align: middle;\n",
       "    }\n",
       "\n",
       "    .dataframe tbody tr th {\n",
       "        vertical-align: top;\n",
       "    }\n",
       "\n",
       "    .dataframe thead th {\n",
       "        text-align: right;\n",
       "    }\n",
       "</style>\n",
       "<table border=\"1\" class=\"dataframe\">\n",
       "  <thead>\n",
       "    <tr style=\"text-align: right;\">\n",
       "      <th></th>\n",
       "      <th>raceId</th>\n",
       "      <th>driverId</th>\n",
       "      <th>lap</th>\n",
       "      <th>position</th>\n",
       "      <th>time</th>\n",
       "      <th>milliseconds</th>\n",
       "      <th>pit</th>\n",
       "      <th>stint</th>\n",
       "      <th>tyre_age</th>\n",
       "    </tr>\n",
       "  </thead>\n",
       "  <tbody>\n",
       "    <tr>\n",
       "      <th>0</th>\n",
       "      <td>1100</td>\n",
       "      <td>847</td>\n",
       "      <td>1</td>\n",
       "      <td>1</td>\n",
       "      <td>1:37.854</td>\n",
       "      <td>97854</td>\n",
       "      <td>0.0</td>\n",
       "      <td>0.0</td>\n",
       "      <td>0</td>\n",
       "    </tr>\n",
       "    <tr>\n",
       "      <th>1</th>\n",
       "      <td>1100</td>\n",
       "      <td>847</td>\n",
       "      <td>2</td>\n",
       "      <td>1</td>\n",
       "      <td>2:13.298</td>\n",
       "      <td>133298</td>\n",
       "      <td>0.0</td>\n",
       "      <td>0.0</td>\n",
       "      <td>1</td>\n",
       "    </tr>\n",
       "    <tr>\n",
       "      <th>2</th>\n",
       "      <td>1100</td>\n",
       "      <td>847</td>\n",
       "      <td>3</td>\n",
       "      <td>1</td>\n",
       "      <td>2:12.017</td>\n",
       "      <td>132017</td>\n",
       "      <td>0.0</td>\n",
       "      <td>0.0</td>\n",
       "      <td>2</td>\n",
       "    </tr>\n",
       "    <tr>\n",
       "      <th>3</th>\n",
       "      <td>1100</td>\n",
       "      <td>847</td>\n",
       "      <td>4</td>\n",
       "      <td>1</td>\n",
       "      <td>1:23.134</td>\n",
       "      <td>83134</td>\n",
       "      <td>0.0</td>\n",
       "      <td>0.0</td>\n",
       "      <td>3</td>\n",
       "    </tr>\n",
       "    <tr>\n",
       "      <th>4</th>\n",
       "      <td>1100</td>\n",
       "      <td>847</td>\n",
       "      <td>5</td>\n",
       "      <td>1</td>\n",
       "      <td>1:23.134</td>\n",
       "      <td>83134</td>\n",
       "      <td>0.0</td>\n",
       "      <td>0.0</td>\n",
       "      <td>4</td>\n",
       "    </tr>\n",
       "  </tbody>\n",
       "</table>\n",
       "</div>"
      ],
      "text/plain": [
       "   raceId  driverId  lap  position      time  milliseconds  pit  stint  \\\n",
       "0    1100       847    1         1  1:37.854         97854  0.0    0.0   \n",
       "1    1100       847    2         1  2:13.298        133298  0.0    0.0   \n",
       "2    1100       847    3         1  2:12.017        132017  0.0    0.0   \n",
       "3    1100       847    4         1  1:23.134         83134  0.0    0.0   \n",
       "4    1100       847    5         1  1:23.134         83134  0.0    0.0   \n",
       "\n",
       "   tyre_age  \n",
       "0         0  \n",
       "1         1  \n",
       "2         2  \n",
       "3         3  \n",
       "4         4  "
      ]
     },
     "execution_count": 45,
     "metadata": {},
     "output_type": "execute_result"
    }
   ],
   "source": [
    "race_laps.head()"
   ]
  },
  {
   "cell_type": "code",
   "execution_count": 46,
   "id": "1f237962-112c-4458-bd75-e822e9b48d11",
   "metadata": {},
   "outputs": [
    {
     "name": "stdout",
     "output_type": "stream",
     "text": [
      "['raceId', 'driverId', 'lap', 'position', 'time', 'milliseconds', 'pit', 'stint', 'tyre_age']\n",
      "['driverId', 'surname']\n"
     ]
    }
   ],
   "source": [
    "print(race_laps.columns.tolist())\n",
    "print(drivers.columns.tolist())"
   ]
  },
  {
   "cell_type": "code",
   "execution_count": 47,
   "id": "ba259d2d-de1c-488e-8585-ae2d695c841a",
   "metadata": {},
   "outputs": [],
   "source": [
    "#Merging race info with driver info\n",
    "driver_info = drivers[[\"driverId\", \"surname\"]]   \n",
    "\n",
    "race_laps = race_laps.merge(driver_info, on=\"driverId\", how=\"left\")\n"
   ]
  },
  {
   "cell_type": "code",
   "execution_count": 48,
   "id": "1b6a7ffc-192e-4dc5-bfa8-e0de6954731d",
   "metadata": {},
   "outputs": [
    {
     "data": {
      "text/html": [
       "<div>\n",
       "<style scoped>\n",
       "    .dataframe tbody tr th:only-of-type {\n",
       "        vertical-align: middle;\n",
       "    }\n",
       "\n",
       "    .dataframe tbody tr th {\n",
       "        vertical-align: top;\n",
       "    }\n",
       "\n",
       "    .dataframe thead th {\n",
       "        text-align: right;\n",
       "    }\n",
       "</style>\n",
       "<table border=\"1\" class=\"dataframe\">\n",
       "  <thead>\n",
       "    <tr style=\"text-align: right;\">\n",
       "      <th></th>\n",
       "      <th>driverId</th>\n",
       "      <th>surname</th>\n",
       "    </tr>\n",
       "  </thead>\n",
       "  <tbody>\n",
       "    <tr>\n",
       "      <th>0</th>\n",
       "      <td>847</td>\n",
       "      <td>Russell</td>\n",
       "    </tr>\n",
       "    <tr>\n",
       "      <th>1</th>\n",
       "      <td>847</td>\n",
       "      <td>Russell</td>\n",
       "    </tr>\n",
       "    <tr>\n",
       "      <th>2</th>\n",
       "      <td>847</td>\n",
       "      <td>Russell</td>\n",
       "    </tr>\n",
       "    <tr>\n",
       "      <th>3</th>\n",
       "      <td>847</td>\n",
       "      <td>Russell</td>\n",
       "    </tr>\n",
       "    <tr>\n",
       "      <th>4</th>\n",
       "      <td>847</td>\n",
       "      <td>Russell</td>\n",
       "    </tr>\n",
       "  </tbody>\n",
       "</table>\n",
       "</div>"
      ],
      "text/plain": [
       "   driverId  surname\n",
       "0       847  Russell\n",
       "1       847  Russell\n",
       "2       847  Russell\n",
       "3       847  Russell\n",
       "4       847  Russell"
      ]
     },
     "execution_count": 48,
     "metadata": {},
     "output_type": "execute_result"
    }
   ],
   "source": [
    "race_laps[['driverId','surname']].head()"
   ]
  },
  {
   "cell_type": "markdown",
   "id": "2d1e7017-1a7f-4850-83ee-9216c9a0b528",
   "metadata": {},
   "source": [
    "# **PART II - VERSTAPPEN**"
   ]
  },
  {
   "cell_type": "code",
   "execution_count": 49,
   "id": "71643ddb-0a7e-46a1-8094-4ef552213734",
   "metadata": {},
   "outputs": [],
   "source": [
    "ver = race_laps.query(\"surname == 'Verstappen'\")"
   ]
  },
  {
   "cell_type": "code",
   "execution_count": 61,
   "id": "d9e3e95c-57e9-450b-ad2c-c179ef3c1885",
   "metadata": {},
   "outputs": [],
   "source": [
    "ver_clean = ver[(ver[\"pit\"] == 0) & (ver['milliseconds'] < 120_000)].copy()"
   ]
  },
  {
   "cell_type": "code",
   "execution_count": 63,
   "id": "4e20e444-d483-4d86-9f8f-ddb84cbdae71",
   "metadata": {},
   "outputs": [],
   "source": [
    "q1 = ver_clean['milliseconds'].quantile(0.25)\n",
    "q3 = ver_clean['milliseconds'].quantile(0.75)\n",
    "iqr = q3 - q1\n",
    "upper = q3 + 1.5 * iqr\n",
    "ver_race = ver_clean[ver_clean['milliseconds'] <= upper]"
   ]
  },
  {
   "cell_type": "code",
   "execution_count": 64,
   "id": "c4cec07f-2b00-4717-a271-7647ed09d4f1",
   "metadata": {},
   "outputs": [],
   "source": [
    "# X = Tyre Age; Y = Lap Time(s)\n",
    "Xr = ver_race[\"tyre_age\"].values.reshape(-1,1)\n",
    "yr = ver_race[\"milliseconds\"].values / 1000"
   ]
  },
  {
   "cell_type": "code",
   "execution_count": 66,
   "id": "2e36503a-aae5-410f-be14-f11fe51c4925",
   "metadata": {},
   "outputs": [
    {
     "name": "stdout",
     "output_type": "stream",
     "text": [
      "Degradation rate (clean racing laps): -0.053 s/lap\n"
     ]
    }
   ],
   "source": [
    "model_r = LinearRegression().fit(Xr, yr)\n",
    "slope_r = model_r.coef_[0]\n",
    "print(f\"Degradation rate (clean racing laps): {slope_r:.3f} s/lap\")\n",
    "intercept = model_c.intercept_"
   ]
  },
  {
   "cell_type": "code",
   "execution_count": 84,
   "id": "2d9b8355-28ff-4f35-9d7d-e53bd593a341",
   "metadata": {},
   "outputs": [
    {
     "data": {
      "text/plain": [
       "<matplotlib.legend.Legend at 0x1301b2600>"
      ]
     },
     "execution_count": 84,
     "metadata": {},
     "output_type": "execute_result"
    },
    {
     "data": {
      "image/png": "[encoded data removed]",
      "text/plain": [
       "<Figure size 600x400 with 1 Axes>"
      ]
     },
     "metadata": {},
     "output_type": "display_data"
    }
   ],
   "source": [
    "# Plotting \n",
    "fig, ax = plt.subplots(figsize=(6,4))\n",
    "sc = ax.scatter(\n",
    "    ver_race['tyre_age'],\n",
    "    yr,\n",
    "    c=ver_race['stint'],\n",
    "    cmap='viridis',\n",
    "    s=14,\n",
    "    alpha=0.8,\n",
    "    \n",
    ")\n",
    "for stint_id, grp in ver_race.groupby(\"stint\"):\n",
    "    ax.scatter(grp[\"tyre_age\"], grp[\"milliseconds\"]/1000,\n",
    "               s=14, alpha=0.8,\n",
    "               label=f\"Stint {stint_id}\")\n",
    "ax.legend(title=\"Stint\")\n",
    "ax.set_xlabel(\"Tyre Age (laps)\")        # ← x-axis label\n",
    "ax.set_ylabel(\"Lap Time (s)\")           # ← y-axis label\n",
    "ax.set_title(f\"Verstappen – AUS 2023  •  Degradation {slope:+.3f} s/lap\")\n",
    "ax.invert_xaxis()\n",
    "\n",
    "\n",
    "# Regression Line\n",
    "coef = np.polyfit(ver_race['tyre_age'], ver_race['milliseconds']/1000, 1)\n",
    "px = np.arange(0, ver_race['tyre_age'].max() +1)\n",
    "plt.plot(\n",
    "    px,\n",
    "    np.polyval(coef, px),\n",
    "    color='red',\n",
    "    lw=2,\n",
    "    label=f\"Linear fit ({coef[0]:+.3f} s/lap)\"\n",
    ")\n",
    "plt.legend(title='Stint')\n",
    "\n",
    "# Annotate pit-stops (stint boundaries)\n",
    "for stint_id, grp in ver_clean.groupby(\"stint\"):\n",
    "    if stint_id == 0:\n",
    "        continue                    \n",
    "    ax.axvline(\n",
    "        x=0,                         \n",
    "        ls=\"--\", lw=1,\n",
    "        c=\"grey\", alpha=0.8,\n",
    "        label=\"Pit-stop\" if stint_id == 1 else None\n",
    "    )\n",
    "    ax.text(\n",
    "        0, ax.get_ylim()[1] - 0.1,   \n",
    "        \"Pit\", rotation=90,\n",
    "        va=\"top\", ha=\"center\",\n",
    "        fontsize=8, color=\"grey\"\n",
    "    )\n",
    "\n",
    "handles, labels = ax.get_legend_handles_labels()\n",
    "ax.legend(handles, labels, title=\"Stint\")\n",
    "\n"
   ]
  },
  {
   "cell_type": "code",
   "execution_count": null,
   "id": "88a92139-1dda-4596-8db1-834a09ebddd5",
   "metadata": {},
   "outputs": [],
   "source": []
  }
 ],
 "metadata": {
  "kernelspec": {
   "display_name": "Python 3 (ipykernel)",
   "language": "python",
   "name": "python3"
  },
  "language_info": {
   "codemirror_mode": {
    "name": "ipython",
    "version": 3
   },
   "file_extension": ".py",
   "mimetype": "text/x-python",
   "name": "python",
   "nbconvert_exporter": "python",
   "pygments_lexer": "ipython3",
   "version": "3.12.7"
  }
 },
 "nbformat": 4,
 "nbformat_minor": 5
}
