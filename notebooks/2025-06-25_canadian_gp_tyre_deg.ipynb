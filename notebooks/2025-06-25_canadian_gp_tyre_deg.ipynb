{
 "cells": [
  {
   "cell_type": "code",
   "execution_count": 6,
   "id": "695538b8-6b7a-4f33-931b-a3e1a756fbcc",
   "metadata": {},
   "outputs": [],
   "source": [
    "from pathlib import Path\n",
    "import fastf1 as f1\n",
    "from fastf1 import plotting\n",
    "import warnings\n",
    "\n",
    "# make sure cache exists\n",
    "cache_dir = Path(\"../cache\")\n",
    "cache_dir.mkdir(parents=True, exist_ok=True)\n",
    "f1.Cache.enable_cache(cache_dir)\n",
    "\n",
    "# suppress the specific future warnings (optional)\n",
    "warnings.filterwarnings(\"ignore\", category=FutureWarning, module=\"fastf1.plotting\")\n",
    "\n",
    "# explicitly tell FastF1 what you want\n",
    "plotting.setup_mpl(\n",
    "    color_scheme=\"fastf1\",   # or None if you want Matplotlib defaults\n",
    "    misc_mpl_mods=True       # or False to keep Matplotlib defaults\n",
    ")"
   ]
  },
  {
   "cell_type": "code",
   "execution_count": null,
   "id": "1e54c341-e07e-41fc-b621-5c94996d3c69",
   "metadata": {},
   "outputs": [],
   "source": []
  }
 ],
 "metadata": {
  "kernelspec": {
   "display_name": "Python 3 (ipykernel)",
   "language": "python",
   "name": "python3"
  },
  "language_info": {
   "codemirror_mode": {
    "name": "ipython",
    "version": 3
   },
   "file_extension": ".py",
   "mimetype": "text/x-python",
   "name": "python",
   "nbconvert_exporter": "python",
   "pygments_lexer": "ipython3",
   "version": "3.12.7"
  }
 },
 "nbformat": 4,
 "nbformat_minor": 5
}
