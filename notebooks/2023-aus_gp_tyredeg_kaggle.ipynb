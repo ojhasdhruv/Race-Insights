{
 "cells": [
  {
   "cell_type": "code",
   "execution_count": 1,
   "id": "eae85b97-83e7-4fda-806e-e6a4746178c4",
   "metadata": {},
   "outputs": [],
   "source": [
    "import pandas as pd\n",
    "from pathlib import Path\n",
    "\n",
    "DATA = Path(\"../data/ergast\")"
   ]
  },
  {
   "cell_type": "code",
   "execution_count": 2,
   "id": "584dd7e4-3fed-4823-8194-696a3808afb3",
   "metadata": {},
   "outputs": [],
   "source": [
    "laps = pd.read_csv(DATA / \"lap_times.csv\")\n",
    "pits = pd.read_csv(DATA / \"pit_stops.csv\")\n",
    "races = pd.read_csv(DATA / \"races.csv\")\n",
    "drivers = pd.read_csv(DATA / \"drivers.csv\")[[\"driverId\", \"surname\"]]"
   ]
  },
  {
   "cell_type": "code",
   "execution_count": 3,
   "id": "21b67c09-ad6f-4b0e-9a75-9ea134d6cee1",
   "metadata": {},
   "outputs": [
    {
     "name": "stdout",
     "output_type": "stream",
     "text": [
      "Loaded race_id 1100 for 2023 round 3\n"
     ]
    }
   ],
   "source": [
    "YEAR, ROUND = 2023, 3\n",
    "race_id = races.query(\"year==@YEAR and round==@ROUND\").raceId.iloc[0]\n",
    "print(f\"Loaded race_id {race_id} for {YEAR} round {ROUND}\")"
   ]
  },
  {
   "cell_type": "code",
   "execution_count": 5,
   "id": "af0cf3ab-085b-42d0-b7db-570d2615c3e0",
   "metadata": {},
   "outputs": [],
   "source": [
    "race_laps = laps[laps.raceId == race_id].copy()\n",
    "race_pits = pits[pits.raceId == race_id][[\"driverId\", \"lap\"]]"
   ]
  },
  {
   "cell_type": "code",
   "execution_count": 6,
   "id": "d7723f94-9af1-459d-8863-f3d659fc9877",
   "metadata": {},
   "outputs": [],
   "source": [
    "#marking pit stops\n",
    "race_laps = race_laps.merge(race_pits.assign(pit=1), on=[\"driverId\", \"lap\"], how=\"left\")\n",
    "race_laps[\"pit\"] = race_laps[\"pit\"].fillna(0)"
   ]
  },
  {
   "cell_type": "code",
   "execution_count": 7,
   "id": "a4351f0f-60a2-44e0-b638-48be6e39b63d",
   "metadata": {},
   "outputs": [],
   "source": [
    "#building stint and tyre age\n",
    "race_laps[\"stint\"] = race_laps.groupby(\"driverId\")[\"pit\"].cumsum()\n",
    "race_laps[\"tyre_age\"] = race_laps.groupby([\"driverId\",\"stint\"]).cumcount()"
   ]
  },
  {
   "cell_type": "code",
   "execution_count": 8,
   "id": "926a0183-b8b8-475a-a647-8e5d89b72da1",
   "metadata": {},
   "outputs": [
    {
     "data": {
      "text/html": [
       "<div>\n",
       "<style scoped>\n",
       "    .dataframe tbody tr th:only-of-type {\n",
       "        vertical-align: middle;\n",
       "    }\n",
       "\n",
       "    .dataframe tbody tr th {\n",
       "        vertical-align: top;\n",
       "    }\n",
       "\n",
       "    .dataframe thead th {\n",
       "        text-align: right;\n",
       "    }\n",
       "</style>\n",
       "<table border=\"1\" class=\"dataframe\">\n",
       "  <thead>\n",
       "    <tr style=\"text-align: right;\">\n",
       "      <th></th>\n",
       "      <th>raceId</th>\n",
       "      <th>driverId</th>\n",
       "      <th>lap</th>\n",
       "      <th>position</th>\n",
       "      <th>time</th>\n",
       "      <th>milliseconds</th>\n",
       "      <th>pit</th>\n",
       "      <th>stint</th>\n",
       "      <th>tyre_age</th>\n",
       "    </tr>\n",
       "  </thead>\n",
       "  <tbody>\n",
       "    <tr>\n",
       "      <th>0</th>\n",
       "      <td>1100</td>\n",
       "      <td>847</td>\n",
       "      <td>1</td>\n",
       "      <td>1</td>\n",
       "      <td>1:37.854</td>\n",
       "      <td>97854</td>\n",
       "      <td>0.0</td>\n",
       "      <td>0.0</td>\n",
       "      <td>0</td>\n",
       "    </tr>\n",
       "    <tr>\n",
       "      <th>1</th>\n",
       "      <td>1100</td>\n",
       "      <td>847</td>\n",
       "      <td>2</td>\n",
       "      <td>1</td>\n",
       "      <td>2:13.298</td>\n",
       "      <td>133298</td>\n",
       "      <td>0.0</td>\n",
       "      <td>0.0</td>\n",
       "      <td>1</td>\n",
       "    </tr>\n",
       "    <tr>\n",
       "      <th>2</th>\n",
       "      <td>1100</td>\n",
       "      <td>847</td>\n",
       "      <td>3</td>\n",
       "      <td>1</td>\n",
       "      <td>2:12.017</td>\n",
       "      <td>132017</td>\n",
       "      <td>0.0</td>\n",
       "      <td>0.0</td>\n",
       "      <td>2</td>\n",
       "    </tr>\n",
       "    <tr>\n",
       "      <th>3</th>\n",
       "      <td>1100</td>\n",
       "      <td>847</td>\n",
       "      <td>4</td>\n",
       "      <td>1</td>\n",
       "      <td>1:23.134</td>\n",
       "      <td>83134</td>\n",
       "      <td>0.0</td>\n",
       "      <td>0.0</td>\n",
       "      <td>3</td>\n",
       "    </tr>\n",
       "    <tr>\n",
       "      <th>4</th>\n",
       "      <td>1100</td>\n",
       "      <td>847</td>\n",
       "      <td>5</td>\n",
       "      <td>1</td>\n",
       "      <td>1:23.134</td>\n",
       "      <td>83134</td>\n",
       "      <td>0.0</td>\n",
       "      <td>0.0</td>\n",
       "      <td>4</td>\n",
       "    </tr>\n",
       "  </tbody>\n",
       "</table>\n",
       "</div>"
      ],
      "text/plain": [
       "   raceId  driverId  lap  position      time  milliseconds  pit  stint  \\\n",
       "0    1100       847    1         1  1:37.854         97854  0.0    0.0   \n",
       "1    1100       847    2         1  2:13.298        133298  0.0    0.0   \n",
       "2    1100       847    3         1  2:12.017        132017  0.0    0.0   \n",
       "3    1100       847    4         1  1:23.134         83134  0.0    0.0   \n",
       "4    1100       847    5         1  1:23.134         83134  0.0    0.0   \n",
       "\n",
       "   tyre_age  \n",
       "0         0  \n",
       "1         1  \n",
       "2         2  \n",
       "3         3  \n",
       "4         4  "
      ]
     },
     "execution_count": 8,
     "metadata": {},
     "output_type": "execute_result"
    }
   ],
   "source": [
    "race_laps.head()"
   ]
  },
  {
   "cell_type": "code",
   "execution_count": null,
   "id": "8fcb856a-3d5b-4e3e-9435-2e1efdef8706",
   "metadata": {},
   "outputs": [],
   "source": []
  }
 ],
 "metadata": {
  "kernelspec": {
   "display_name": "Python 3 (ipykernel)",
   "language": "python",
   "name": "python3"
  },
  "language_info": {
   "codemirror_mode": {
    "name": "ipython",
    "version": 3
   },
   "file_extension": ".py",
   "mimetype": "text/x-python",
   "name": "python",
   "nbconvert_exporter": "python",
   "pygments_lexer": "ipython3",
   "version": "3.12.7"
  }
 },
 "nbformat": 4,
 "nbformat_minor": 5
}
