{
 "cells": [
  {
   "cell_type": "markdown",
   "id": "8c22c47c-5584-4fea-aa05-1267f46f7928",
   "metadata": {},
   "source": [
    "# **PART I - DATA AND PRELEMINARY WORK**"
   ]
  },
  {
   "cell_type": "code",
   "execution_count": 6,
   "id": "eae85b97-83e7-4fda-806e-e6a4746178c4",
   "metadata": {},
   "outputs": [],
   "source": [
    "import pandas as pd\n",
    "from pathlib import Path\n",
    "import matplotlib.pyplot as plt\n",
    "from sklearn.linear_model import LinearRegression\n",
    "import numpy as np\n",
    "\n",
    "DATA = Path(\"../data/ergast\")"
   ]
  },
  {
   "cell_type": "code",
   "execution_count": 7,
   "id": "584dd7e4-3fed-4823-8194-696a3808afb3",
   "metadata": {},
   "outputs": [],
   "source": [
    "laps = pd.read_csv(DATA / \"lap_times.csv\")\n",
    "pits = pd.read_csv(DATA / \"pit_stops.csv\")\n",
    "races = pd.read_csv(DATA / \"races.csv\")\n",
    "drivers = pd.read_csv(DATA / \"drivers.csv\")[[\"driverId\", \"surname\"]]"
   ]
  },
  {
   "cell_type": "code",
   "execution_count": 8,
   "id": "21b67c09-ad6f-4b0e-9a75-9ea134d6cee1",
   "metadata": {},
   "outputs": [
    {
     "name": "stdout",
     "output_type": "stream",
     "text": [
      "Loaded race_id 1100 for 2023 round 3\n"
     ]
    }
   ],
   "source": [
    "YEAR, ROUND = 2023, 3\n",
    "race_id = races.query(\"year==@YEAR and round==@ROUND\").raceId.iloc[0]\n",
    "print(f\"Loaded race_id {race_id} for {YEAR} round {ROUND}\")"
   ]
  },
  {
   "cell_type": "code",
   "execution_count": 9,
   "id": "af0cf3ab-085b-42d0-b7db-570d2615c3e0",
   "metadata": {},
   "outputs": [],
   "source": [
    "race_laps = laps[laps.raceId == race_id].copy()\n",
    "race_pits = pits[pits.raceId == race_id][[\"driverId\", \"lap\"]]"
   ]
  },
  {
   "cell_type": "code",
   "execution_count": 10,
   "id": "d7723f94-9af1-459d-8863-f3d659fc9877",
   "metadata": {},
   "outputs": [],
   "source": [
    "#marking pit stops\n",
    "race_laps = race_laps.merge(race_pits.assign(pit=1), on=[\"driverId\", \"lap\"], how=\"left\")\n",
    "race_laps[\"pit\"] = race_laps[\"pit\"].fillna(0)"
   ]
  },
  {
   "cell_type": "code",
   "execution_count": 11,
   "id": "a4351f0f-60a2-44e0-b638-48be6e39b63d",
   "metadata": {},
   "outputs": [],
   "source": [
    "#building stint and tyre age\n",
    "race_laps[\"stint\"] = race_laps.groupby(\"driverId\")[\"pit\"].cumsum()\n",
    "race_laps[\"tyre_age\"] = race_laps.groupby([\"driverId\",\"stint\"]).cumcount()"
   ]
  },
  {
   "cell_type": "code",
   "execution_count": 12,
   "id": "926a0183-b8b8-475a-a647-8e5d89b72da1",
   "metadata": {},
   "outputs": [
    {
     "data": {
      "text/html": [
       "<div>\n",
       "<style scoped>\n",
       "    .dataframe tbody tr th:only-of-type {\n",
       "        vertical-align: middle;\n",
       "    }\n",
       "\n",
       "    .dataframe tbody tr th {\n",
       "        vertical-align: top;\n",
       "    }\n",
       "\n",
       "    .dataframe thead th {\n",
       "        text-align: right;\n",
       "    }\n",
       "</style>\n",
       "<table border=\"1\" class=\"dataframe\">\n",
       "  <thead>\n",
       "    <tr style=\"text-align: right;\">\n",
       "      <th></th>\n",
       "      <th>raceId</th>\n",
       "      <th>driverId</th>\n",
       "      <th>lap</th>\n",
       "      <th>position</th>\n",
       "      <th>time</th>\n",
       "      <th>milliseconds</th>\n",
       "      <th>pit</th>\n",
       "      <th>stint</th>\n",
       "      <th>tyre_age</th>\n",
       "    </tr>\n",
       "  </thead>\n",
       "  <tbody>\n",
       "    <tr>\n",
       "      <th>0</th>\n",
       "      <td>1100</td>\n",
       "      <td>847</td>\n",
       "      <td>1</td>\n",
       "      <td>1</td>\n",
       "      <td>1:37.854</td>\n",
       "      <td>97854</td>\n",
       "      <td>0.0</td>\n",
       "      <td>0.0</td>\n",
       "      <td>0</td>\n",
       "    </tr>\n",
       "    <tr>\n",
       "      <th>1</th>\n",
       "      <td>1100</td>\n",
       "      <td>847</td>\n",
       "      <td>2</td>\n",
       "      <td>1</td>\n",
       "      <td>2:13.298</td>\n",
       "      <td>133298</td>\n",
       "      <td>0.0</td>\n",
       "      <td>0.0</td>\n",
       "      <td>1</td>\n",
       "    </tr>\n",
       "    <tr>\n",
       "      <th>2</th>\n",
       "      <td>1100</td>\n",
       "      <td>847</td>\n",
       "      <td>3</td>\n",
       "      <td>1</td>\n",
       "      <td>2:12.017</td>\n",
       "      <td>132017</td>\n",
       "      <td>0.0</td>\n",
       "      <td>0.0</td>\n",
       "      <td>2</td>\n",
       "    </tr>\n",
       "    <tr>\n",
       "      <th>3</th>\n",
       "      <td>1100</td>\n",
       "      <td>847</td>\n",
       "      <td>4</td>\n",
       "      <td>1</td>\n",
       "      <td>1:23.134</td>\n",
       "      <td>83134</td>\n",
       "      <td>0.0</td>\n",
       "      <td>0.0</td>\n",
       "      <td>3</td>\n",
       "    </tr>\n",
       "    <tr>\n",
       "      <th>4</th>\n",
       "      <td>1100</td>\n",
       "      <td>847</td>\n",
       "      <td>5</td>\n",
       "      <td>1</td>\n",
       "      <td>1:23.134</td>\n",
       "      <td>83134</td>\n",
       "      <td>0.0</td>\n",
       "      <td>0.0</td>\n",
       "      <td>4</td>\n",
       "    </tr>\n",
       "  </tbody>\n",
       "</table>\n",
       "</div>"
      ],
      "text/plain": [
       "   raceId  driverId  lap  position      time  milliseconds  pit  stint  \\\n",
       "0    1100       847    1         1  1:37.854         97854  0.0    0.0   \n",
       "1    1100       847    2         1  2:13.298        133298  0.0    0.0   \n",
       "2    1100       847    3         1  2:12.017        132017  0.0    0.0   \n",
       "3    1100       847    4         1  1:23.134         83134  0.0    0.0   \n",
       "4    1100       847    5         1  1:23.134         83134  0.0    0.0   \n",
       "\n",
       "   tyre_age  \n",
       "0         0  \n",
       "1         1  \n",
       "2         2  \n",
       "3         3  \n",
       "4         4  "
      ]
     },
     "execution_count": 12,
     "metadata": {},
     "output_type": "execute_result"
    }
   ],
   "source": [
    "race_laps.head()"
   ]
  },
  {
   "cell_type": "code",
   "execution_count": 13,
   "id": "1f237962-112c-4458-bd75-e822e9b48d11",
   "metadata": {},
   "outputs": [
    {
     "name": "stdout",
     "output_type": "stream",
     "text": [
      "['raceId', 'driverId', 'lap', 'position', 'time', 'milliseconds', 'pit', 'stint', 'tyre_age']\n",
      "['driverId', 'surname']\n"
     ]
    }
   ],
   "source": [
    "print(race_laps.columns.tolist())\n",
    "print(drivers.columns.tolist())"
   ]
  },
  {
   "cell_type": "code",
   "execution_count": 14,
   "id": "ba259d2d-de1c-488e-8585-ae2d695c841a",
   "metadata": {},
   "outputs": [],
   "source": [
    "#Merging race info with driver info\n",
    "driver_info = drivers[[\"driverId\", \"surname\"]]   \n",
    "\n",
    "race_laps = race_laps.merge(driver_info, on=\"driverId\", how=\"left\")\n"
   ]
  },
  {
   "cell_type": "code",
   "execution_count": 15,
   "id": "1b6a7ffc-192e-4dc5-bfa8-e0de6954731d",
   "metadata": {},
   "outputs": [
    {
     "data": {
      "text/html": [
       "<div>\n",
       "<style scoped>\n",
       "    .dataframe tbody tr th:only-of-type {\n",
       "        vertical-align: middle;\n",
       "    }\n",
       "\n",
       "    .dataframe tbody tr th {\n",
       "        vertical-align: top;\n",
       "    }\n",
       "\n",
       "    .dataframe thead th {\n",
       "        text-align: right;\n",
       "    }\n",
       "</style>\n",
       "<table border=\"1\" class=\"dataframe\">\n",
       "  <thead>\n",
       "    <tr style=\"text-align: right;\">\n",
       "      <th></th>\n",
       "      <th>driverId</th>\n",
       "      <th>surname</th>\n",
       "    </tr>\n",
       "  </thead>\n",
       "  <tbody>\n",
       "    <tr>\n",
       "      <th>0</th>\n",
       "      <td>847</td>\n",
       "      <td>Russell</td>\n",
       "    </tr>\n",
       "    <tr>\n",
       "      <th>1</th>\n",
       "      <td>847</td>\n",
       "      <td>Russell</td>\n",
       "    </tr>\n",
       "    <tr>\n",
       "      <th>2</th>\n",
       "      <td>847</td>\n",
       "      <td>Russell</td>\n",
       "    </tr>\n",
       "    <tr>\n",
       "      <th>3</th>\n",
       "      <td>847</td>\n",
       "      <td>Russell</td>\n",
       "    </tr>\n",
       "    <tr>\n",
       "      <th>4</th>\n",
       "      <td>847</td>\n",
       "      <td>Russell</td>\n",
       "    </tr>\n",
       "  </tbody>\n",
       "</table>\n",
       "</div>"
      ],
      "text/plain": [
       "   driverId  surname\n",
       "0       847  Russell\n",
       "1       847  Russell\n",
       "2       847  Russell\n",
       "3       847  Russell\n",
       "4       847  Russell"
      ]
     },
     "execution_count": 15,
     "metadata": {},
     "output_type": "execute_result"
    }
   ],
   "source": [
    "race_laps[['driverId','surname']].head()"
   ]
  },
  {
   "cell_type": "markdown",
   "id": "2d1e7017-1a7f-4850-83ee-9216c9a0b528",
   "metadata": {},
   "source": [
    "# **PART II - VERSTAPPEN**"
   ]
  },
  {
   "cell_type": "code",
   "execution_count": 24,
   "id": "88a92139-1dda-4596-8db1-834a09ebddd5",
   "metadata": {},
   "outputs": [
    {
     "name": "stdout",
     "output_type": "stream",
     "text": [
      "Repo root added to sys.path → /Users/dhruvojha/Desktop/MotorsportsProjects/Race-Insights\n"
     ]
    }
   ],
   "source": [
    "import sys, pathlib\n",
    "\n",
    "# CWD inside the notebook is .../Race-Insights/notebooks\n",
    "repo_root = pathlib.Path.cwd().parent        # go one level up\n",
    "if str(repo_root) not in sys.path:\n",
    "    sys.path.append(str(repo_root))\n",
    "\n",
    "# quick sanity check\n",
    "print(\"Repo root added to sys.path →\", repo_root)\n"
   ]
  },
  {
   "cell_type": "code",
   "execution_count": 25,
   "id": "1fd3ac2d-030e-4816-b60f-12dff39a7c3f",
   "metadata": {},
   "outputs": [],
   "source": [
    "from src.models.deg_model import clean_laps, fit_linear_deg, undercut_lap\n"
   ]
  },
  {
   "cell_type": "code",
   "execution_count": 35,
   "id": "b842fca0-9586-49af-a3de-c5d2dbf4c343",
   "metadata": {},
   "outputs": [],
   "source": [
    "ver_clean = clean_laps(race_laps.query(\"surname == 'Verstappen'\"))"
   ]
  },
  {
   "cell_type": "code",
   "execution_count": 39,
   "id": "c2ce92e1-016c-463e-adf0-0f60c002aa4a",
   "metadata": {},
   "outputs": [],
   "source": [
    "FUEL_GAIN_PER_LAP = 0.04   # sec gained each lap from fuel burn-off\n",
    "\n",
    "ver_adj = ver_clean.copy()\n",
    "ver_adj[\"adj_time\"] = (\n",
    "    ver_adj[\"milliseconds\"] / 1000 +\n",
    "    FUEL_GAIN_PER_LAP * ver_adj[\"tyre_age\"]   # ← correct axis\n",
    ")\n"
   ]
  },
  {
   "cell_type": "code",
   "execution_count": 40,
   "id": "4271eb4d-569e-4525-9662-2bad75fb60b6",
   "metadata": {},
   "outputs": [
    {
     "name": "stdout",
     "output_type": "stream",
     "text": [
      "Fuel-adjusted slope: -0.147 s/lap\n"
     ]
    }
   ],
   "source": [
    "tmp      = ver_adj.rename(columns={\"adj_time\": \"milliseconds\"})\n",
    "model, slope = fit_linear_deg(tmp)\n",
    "print(f\"Fuel-adjusted slope: {slope:+.3f} s/lap\")\n"
   ]
  },
  {
   "cell_type": "code",
   "execution_count": 50,
   "id": "8cffea25-8f28-4364-a31f-daf5a04f6370",
   "metadata": {},
   "outputs": [
    {
     "data": {
      "image/png": "[encoded data removed]",
      "text/plain": [
       "<Figure size 700x400 with 1 Axes>"
      ]
     },
     "metadata": {},
     "output_type": "display_data"
    }
   ],
   "source": [
    "\n",
    "\n",
    "driver   = \"Verstappen\"     \n",
    "stints   = [0, 1]            # which stints to show\n",
    "fuel_gain = 0.04             # s gained per lap of fuel burn-off\n",
    "ymin, ymax = 80, 88          # y-axis limits (sec) for AUS 2023\n",
    "marker_size = 50\n",
    "# ----------------------------------------------\n",
    "\n",
    "# 1️⃣  slice → clean → fuel-adjust\n",
    "drv_laps = clean_laps(race_laps.query(\"surname == @driver and stint in @stints\"))\n",
    "drv_laps[\"adj_time\"] = drv_laps[\"milliseconds\"]/1000 + fuel_gain*drv_laps[\"tyre_age\"]\n",
    "\n",
    "# 2️⃣  prepare plot\n",
    "fig, ax = plt.subplots(figsize=(7, 4))\n",
    "ax.grid(True, ls=\":\", lw=0.5, color=\"0.7\")\n",
    "colors = plt.rcParams[\"axes.prop_cycle\"].by_key()[\"color\"]  # default mpl palette\n",
    "\n",
    "# 3️⃣  loop over stints\n",
    "for idx, st in enumerate(stints):\n",
    "    laps_st = drv_laps[drv_laps[\"stint\"] == st]\n",
    "    col = colors[idx % len(colors)]\n",
    "\n",
    "    # scatter\n",
    "    ax.scatter(\n",
    "        laps_st[\"tyre_age\"], laps_st[\"adj_time\"],\n",
    "        color=col, s=marker_size, alpha=0.8, label=f\"Stint {st}\"\n",
    "    )\n",
    "\n",
    "    # regression line\n",
    "    if len(laps_st) > 1:\n",
    "        x = laps_st[\"tyre_age\"].values.reshape(-1, 1)\n",
    "        y = laps_st[\"adj_time\"].values\n",
    "        model = LinearRegression().fit(x, y)\n",
    "        slope = float(model.coef_[0])\n",
    "        xs = np.linspace(0, laps_st[\"tyre_age\"].max(), 50)\n",
    "        ax.plot(xs, model.predict(xs.reshape(-1, 1)),\n",
    "                color=col, lw=2.5, label=f\"Fit s{st} ({slope:+.3f} s/lap)\")\n",
    "\n",
    "# 4️⃣  aesthetics\n",
    "ax.set_xlim(drv_laps[\"tyre_age\"].max() + 1, -1)  # invert x (fresh tyres on right)\n",
    "ax.set_ylim(ymin, ymax)\n",
    "ax.set_xlabel(\"Tyre Age (laps)\", fontsize=12)\n",
    "ax.set_ylabel(\"Fuel-adjusted Lap Time (s)\", fontsize=12)\n",
    "ax.set_title(f\"{driver} – AUS 2023  •  Tyre degradation (fuel-adj)\", fontsize=14)\n",
    "ax.legend(frameon=True, fontsize=9, loc=\"upper left\")\n",
    "fig.tight_layout()\n",
    "plt.show()\n"
   ]
  },
  {
   "cell_type": "markdown",
   "id": "76a62445-d4eb-4c48-8fa0-920d95808ae1",
   "metadata": {},
   "source": [
    "**Verstappen’s lap-time improves by ≈ 0.15 s/lap (fuel burn) while tyre wear adds ≤ 0.05 s/lap. Net slope is negative; therefore an under-cut never recovers the 22 s pit-loss in this stint.**"
   ]
  },
  {
   "cell_type": "markdown",
   "id": "2f972885-0e5e-4bca-8523-861e07cbf444",
   "metadata": {},
   "source": [
    "# **PART III - HAMILTON**"
   ]
  },
  {
   "cell_type": "code",
   "execution_count": 43,
   "id": "687c6a0d-c2a3-4ac9-86b8-47fb6d665ba4",
   "metadata": {},
   "outputs": [
    {
     "name": "stdout",
     "output_type": "stream",
     "text": [
      "HAM stint-1 slope: -0.101 s/lap\n"
     ]
    },
    {
     "data": {
      "image/png": "[encoded data removed]",
      "text/plain": [
       "<Figure size 640x480 with 1 Axes>"
      ]
     },
     "metadata": {},
     "output_type": "display_data"
    }
   ],
   "source": [
    "model, slope = fit_linear_deg(ham_s1)\n",
    "print(f\"HAM stint-1 slope: {slope:+.3f} s/lap\")   # expect +0.05-0.07\n",
    "\n",
    "# quick plot\n",
    "plt.scatter(ham_s1[\"tyre_age\"], ham_s1[\"milliseconds\"]/1000, s=14)\n",
    "x = np.arange(0, ham_s1[\"tyre_age\"].max()+1)\n",
    "plt.plot(x, model.predict(x.reshape(-1,1)), c=\"red\")\n",
    "plt.gca().invert_xaxis()\n",
    "plt.xlabel(\"Tyre Age (laps)\")\n",
    "plt.ylabel(\"Lap Time (s)\")\n",
    "plt.title(f\"HAM AUS-23 stint-1  •  +{slope:.3f} s/lap\")\n",
    "plt.tight_layout()\n",
    "plt.show()\n"
   ]
  },
  {
   "cell_type": "code",
   "execution_count": 51,
   "id": "4ace1e3c-042e-490a-a472-40656f495ace",
   "metadata": {},
   "outputs": [
    {
     "name": "stdout",
     "output_type": "stream",
     "text": [
      "Tyre slope: -0.051 s/lap\n",
      "Fuel slope: -0.051 s/lap\n"
     ]
    }
   ],
   "source": [
    "X = ham_s1[[\"tyre_age\", \"lap\"]].values         # two predictors\n",
    "y = ham_s1[\"milliseconds\"].values / 1000\n",
    "\n",
    "m = LinearRegression().fit(X, y)\n",
    "tyre_slope = float(m.coef_[0])                 # isolates tyre fade\n",
    "fuel_slope = float(m.coef_[1])\n",
    "\n",
    "print(f\"Tyre slope: {tyre_slope:+.3f} s/lap\")\n",
    "print(f\"Fuel slope: {fuel_slope:+.3f} s/lap\")  # should be negative"
   ]
  },
  {
   "cell_type": "code",
   "execution_count": 52,
   "id": "edc83377-68a8-4852-bd24-4b0ba32f19ef",
   "metadata": {},
   "outputs": [
    {
     "name": "stdout",
     "output_type": "stream",
     "text": [
      "Bahrain 2023 raceId: 1098\n"
     ]
    }
   ],
   "source": [
    "# One-time lookup\n",
    "race_id_bhr23 = races.query(\n",
    "    \"year == 2023 and name.str.contains('Bahrain')\", engine=\"python\"\n",
    ").raceId.iloc[0]\n",
    "print(\"Bahrain 2023 raceId:\", race_id_bhr23)      # should print something like 1080\n"
   ]
  },
  {
   "cell_type": "code",
   "execution_count": 58,
   "id": "398de6f8-3b7e-4500-8367-ca9dc0d7408e",
   "metadata": {},
   "outputs": [],
   "source": [
    "# a) raceId for Bahrain GP 2023\n",
    "race_id_bhr23 = races.query(\n",
    "    \"year == 2023 and name.str.contains('Bahrain')\", engine=\"python\"\n",
    ").raceId.iloc[0]\n",
    "\n",
    "# b) Laps & pits for that race\n",
    "bhr_laps = laps[laps.raceId == race_id_bhr23].copy()\n",
    "bhr_pits = pits[pits.raceId == race_id_bhr23][[\"driverId\", \"lap\"]]\n",
    "\n",
    "# c) mark pit laps\n",
    "bhr_laps = bhr_laps.merge(bhr_pits.assign(pit=1),\n",
    "                          on=[\"driverId\", \"lap\"], how=\"left\")\n",
    "bhr_laps[\"pit\"] = bhr_laps[\"pit\"].fillna(0)\n",
    "\n",
    "# d) build stint & tyre_age\n",
    "bhr_laps[\"stint\"]    = bhr_laps.groupby(\"driverId\")[\"pit\"].cumsum()\n",
    "bhr_laps[\"tyre_age\"] = bhr_laps.groupby([\"driverId\", \"stint\"]).cumcount()\n"
   ]
  },
  {
   "cell_type": "code",
   "execution_count": 59,
   "id": "c6c924c9-f8d2-4c42-9c33-525e95554d1c",
   "metadata": {},
   "outputs": [
    {
     "name": "stdout",
     "output_type": "stream",
     "text": [
      "['raceId', 'driverId', 'lap', 'position', 'time', 'milliseconds', 'pit', 'stint', 'tyre_age']\n"
     ]
    }
   ],
   "source": [
    "print(bhr_laps.columns.tolist())   # should list 'pit', 'stint', 'tyre_age'\n"
   ]
  },
  {
   "cell_type": "code",
   "execution_count": 60,
   "id": "6c265ead-d8f2-45e2-8ae0-41c0411ff128",
   "metadata": {},
   "outputs": [
    {
     "name": "stdout",
     "output_type": "stream",
     "text": [
      "Columns now: ['raceId', 'driverId', 'lap', 'position', 'time', 'milliseconds', 'pit', 'stint', 'tyre_age']\n",
      "Unique stints for HAM: []\n"
     ]
    }
   ],
   "source": [
    "# ------------------------------------------------------------------\n",
    "#  Re-compute pit, stint, tyre_age on bhr_laps IN-PLACE\n",
    "# ------------------------------------------------------------------\n",
    "bhr_laps = laps[laps.raceId == race_id_bhr23].copy()           # fresh slice\n",
    "bhr_pits = pits[pits.raceId == race_id_bhr23][[\"driverId\", \"lap\"]]\n",
    "\n",
    "bhr_laps = bhr_laps.merge(bhr_pits.assign(pit=1),\n",
    "                          on=[\"driverId\", \"lap\"], how=\"left\")\n",
    "bhr_laps[\"pit\"] = bhr_laps[\"pit\"].fillna(0).astype(int)\n",
    "\n",
    "bhr_laps[\"stint\"] = bhr_laps.groupby(\"driverId\")[\"pit\"].cumsum()\n",
    "bhr_laps[\"tyre_age\"] = bhr_laps.groupby([\"driverId\", \"stint\"]).cumcount()\n",
    "\n",
    "print(\"Columns now:\", bhr_laps.columns.tolist())\n",
    "print(\"Unique stints for HAM:\", sorted(bhr_laps.loc[bhr_laps.driverId == 44, \"stint\"].unique()))\n"
   ]
  },
  {
   "cell_type": "code",
   "execution_count": 64,
   "id": "c60df07f-69ca-4d71-bcdc-4bde0bfd60f2",
   "metadata": {},
   "outputs": [
    {
     "name": "stdout",
     "output_type": "stream",
     "text": [
      "0 laps\n"
     ]
    }
   ],
   "source": [
    "ham_s0 = clean_laps(bhr_laps.query(\"driverId == 44 and stint == 0\"))\n",
    "print(len(ham_s0), \"laps\")   # should be > 0\n"
   ]
  },
  {
   "cell_type": "code",
   "execution_count": 63,
   "id": "3fce5265-dbf5-4946-81f6-9f55aa73ca4c",
   "metadata": {},
   "outputs": [
    {
     "name": "stdout",
     "output_type": "stream",
     "text": [
      "Empty DataFrame\n",
      "Columns: [lap, pit, milliseconds]\n",
      "Index: []\n",
      "Rows: 0\n"
     ]
    }
   ],
   "source": [
    "raw_ham_s1 = bhr_laps.query(\"driverId == 44 and stint == 1\")\n",
    "print(raw_ham_s1[[\"lap\", \"pit\", \"milliseconds\"]].head())\n",
    "print(\"Rows:\", len(raw_ham_s1))\n"
   ]
  },
  {
   "cell_type": "code",
   "execution_count": 66,
   "id": "de13953e-e309-4a51-9d61-fa04a048571b",
   "metadata": {},
   "outputs": [
    {
     "name": "stdout",
     "output_type": "stream",
     "text": [
      "Hamilton driverId → 1\n"
     ]
    }
   ],
   "source": [
    "ham_id = drivers.loc[drivers[\"surname\"] == \"Hamilton\", \"driverId\"].iloc[0]\n",
    "print(\"Hamilton driverId →\", ham_id)         # e.g. prints 1 or 20 etc.\n"
   ]
  },
  {
   "cell_type": "code",
   "execution_count": 67,
   "id": "2fd343ab-ebb7-47a9-bf69-0aab3b259ebd",
   "metadata": {},
   "outputs": [
    {
     "name": "stdout",
     "output_type": "stream",
     "text": [
      "Hamilton laps in selected stint: 17\n"
     ]
    }
   ],
   "source": [
    "ham_id = 1                               # from your lookup\n",
    "ham_s1 = bhr_laps.query(\"driverId == @ham_id and stint == 1\").copy()\n",
    "\n",
    "# if stint 1 is empty, fall back to stint 0\n",
    "if ham_s1.empty:\n",
    "    ham_s1 = bhr_laps.query(\"driverId == @ham_id and stint == 0\").copy()\n",
    "\n",
    "ham_s1 = clean_laps(ham_s1)              # remove pit/out-laps & >120 s\n",
    "print(\"Hamilton laps in selected stint:\", len(ham_s1))\n"
   ]
  },
  {
   "cell_type": "code",
   "execution_count": 68,
   "id": "298984dc-d289-4df3-b171-eb8116772410",
   "metadata": {},
   "outputs": [
    {
     "name": "stdout",
     "output_type": "stream",
     "text": [
      "Hamilton Bahrain-23 slope: -0.422 s/lap\n",
      "Slope ≤ 0  →  under-cut not worthwhile\n"
     ]
    }
   ],
   "source": [
    "model, slope = fit_linear_deg(ham_s1)\n",
    "print(f\"Hamilton Bahrain-23 slope: {slope:+.3f} s/lap\")\n",
    "\n",
    "if slope > 0:\n",
    "    print(\"Undercut pays after\", undercut_lap(slope, pit_loss=22), \"laps\")\n",
    "else:\n",
    "    print(\"Slope ≤ 0  →  under-cut not worthwhile\")\n"
   ]
  },
  {
   "cell_type": "code",
   "execution_count": 69,
   "id": "e343b626-819a-44d3-b657-f635169c6ea1",
   "metadata": {},
   "outputs": [
    {
     "data": {
      "image/png": "[encoded data removed]",
      "text/plain": [
       "<Figure size 600x400 with 1 Axes>"
      ]
     },
     "metadata": {},
     "output_type": "display_data"
    }
   ],
   "source": [
    "import matplotlib.pyplot as plt, numpy as np\n",
    "\n",
    "fig, ax = plt.subplots(figsize=(6,4))\n",
    "ax.scatter(ham_s1[\"tyre_age\"], ham_s1[\"milliseconds\"]/1000,\n",
    "           s=45, alpha=0.8, label=\"Lap times\")\n",
    "\n",
    "xs = np.arange(0, ham_s1[\"tyre_age\"].max()+1)\n",
    "ax.plot(xs, model.predict(xs.reshape(-1,1)),\n",
    "        color=\"red\", lw=2.5, label=f\"Fit (+{slope:.3f} s/lap)\")\n",
    "\n",
    "ax.set_xlabel(\"Tyre Age (laps)\")\n",
    "ax.set_ylabel(\"Lap Time (s)\")\n",
    "ax.set_title(\"Hamilton – Bahrain 2023 • Tyre degradation\")\n",
    "ax.invert_xaxis()\n",
    "ax.grid(ls=\":\", lw=0.5)\n",
    "ax.legend()\n",
    "plt.tight_layout(); plt.show()\n"
   ]
  },
  {
   "cell_type": "code",
   "execution_count": 70,
   "id": "e26d17fd-97ba-4e43-9d44-393d5189bf8b",
   "metadata": {},
   "outputs": [
    {
     "name": "stdout",
     "output_type": "stream",
     "text": [
      "Raw rows: 18\n",
      "After pit+warmup filter: 16\n",
      "After quantile trim: 12\n",
      "Cleaned slope: -0.011 s/lap\n",
      "Slope ≤0 → no undercut payback\n"
     ]
    },
    {
     "data": {
      "image/png": "[encoded data removed]",
      "text/plain": [
       "<Figure size 600x400 with 1 Axes>"
      ]
     },
     "metadata": {},
     "output_type": "display_data"
    }
   ],
   "source": [
    "import numpy as np\n",
    "import matplotlib.pyplot as plt\n",
    "from sklearn.linear_model import LinearRegression\n",
    "\n",
    "# 1️⃣ Hamilton’s Bahrain 2023 stint-1 raw laps\n",
    "ham_id = 1  # from drivers.csv lookup\n",
    "raw = bhr_laps[(bhr_laps.driverId == ham_id) & (bhr_laps.stint == 1)].copy()\n",
    "print(\"Raw rows:\", len(raw))\n",
    "\n",
    "# 2️⃣ Keep only flying laps (no pit-in/out) and drop the first 2 laps of the stint\n",
    "flt = (raw[\"pit\"] == 0) & (raw[\"tyre_age\"] >= 2)\n",
    "flying = raw.loc[flt].copy()\n",
    "print(\"After pit+warmup filter:\", len(flying))\n",
    "\n",
    "# 3️⃣ Remove extreme outliers via quantiles (drop top/bottom 10%)\n",
    "times = flying[\"milliseconds\"] / 1000\n",
    "mask = (times > times.quantile(0.10)) & (times < times.quantile(0.90))\n",
    "clean = flying.loc[mask].copy()\n",
    "print(\"After quantile trim:\", len(clean))\n",
    "\n",
    "# 4️⃣ Fit the linear model\n",
    "X = clean[\"tyre_age\"].values.reshape(-1, 1)\n",
    "y = clean[\"milliseconds\"].values / 1000\n",
    "model = LinearRegression().fit(X, y)\n",
    "slope = float(model.coef_[0])\n",
    "print(f\"Cleaned slope: {slope:+.3f} s/lap\")\n",
    "\n",
    "# 5️⃣ Compute undercut lap (if slope > 0)\n",
    "if slope > 0:\n",
    "    payback = int(np.ceil(22 / slope))\n",
    "    print(\"Undercut pays after\", payback, \"laps\")\n",
    "else:\n",
    "    print(\"Slope ≤0 → no undercut payback\")\n",
    "\n",
    "# 6️⃣ Plot\n",
    "fig, ax = plt.subplots(figsize=(6,4))\n",
    "ax.scatter(clean[\"tyre_age\"], clean[\"milliseconds\"]/1000,\n",
    "           s=40, alpha=0.8, label=\"Clean laps\")\n",
    "xs = np.arange(0, clean[\"tyre_age\"].max()+1)\n",
    "ax.plot(xs, model.predict(xs.reshape(-1,1)),\n",
    "        c=\"red\", lw=2.5, label=f\"Fit (+{slope:.3f} s/lap)\")\n",
    "ax.set_xlabel(\"Tyre Age (laps)\")\n",
    "ax.set_ylabel(\"Lap Time (s)\")\n",
    "ax.set_title(\"Hamilton – Bahrain 2023 stint-1\\nCleaned & fit\")\n",
    "ax.invert_xaxis()\n",
    "ax.grid(ls=\":\", lw=0.5)\n",
    "ax.legend()\n",
    "plt.tight_layout()\n",
    "plt.show()\n"
   ]
  },
  {
   "cell_type": "code",
   "execution_count": 72,
   "id": "eab6e35e-b00f-44ec-839e-c032e781328e",
   "metadata": {},
   "outputs": [
    {
     "name": "stdout",
     "output_type": "stream",
     "text": [
      "Stints for HAM: [0 1 2]\n"
     ]
    }
   ],
   "source": [
    "# bring the surname into spa_laps\n",
    "spa_laps = spa_laps.merge(\n",
    "    drivers[[\"driverId\",\"surname\"]],\n",
    "    on=\"driverId\",\n",
    "    how=\"left\"\n",
    ")\n",
    "\n",
    "# now this works\n",
    "print(\"Stints for HAM:\", spa_laps.query(\"surname=='Hamilton'\")[\"stint\"].unique())\n"
   ]
  },
  {
   "cell_type": "code",
   "execution_count": 73,
   "id": "2c8a62ac-8613-4d39-80a0-b91791542d3b",
   "metadata": {},
   "outputs": [
    {
     "name": "stdout",
     "output_type": "stream",
     "text": [
      "Rows in HAM Spanish GP stint: 18\n"
     ]
    }
   ],
   "source": [
    "from src.models.deg_model import clean_laps\n",
    "\n",
    "# Hamilton’s driverId\n",
    "ham_id = drivers.query(\"surname=='Hamilton'\").driverId.iloc[0]\n",
    "\n",
    "# Try stint 1; if empty, fall back to stint 0\n",
    "ham_spa = spa_laps.query(\"driverId == @ham_id and stint == 1\").copy()\n",
    "if ham_spa.empty:\n",
    "    ham_spa = spa_laps.query(\"driverId == @ham_id and stint == 0\").copy()\n",
    "\n",
    "ham_spa = clean_laps(ham_spa)\n",
    "print(\"Rows in HAM Spanish GP stint:\", len(ham_spa))\n"
   ]
  },
  {
   "cell_type": "code",
   "execution_count": 74,
   "id": "15135549-d1c2-44d1-a801-eaa557821352",
   "metadata": {},
   "outputs": [
    {
     "name": "stdout",
     "output_type": "stream",
     "text": [
      "Hamilton SPA-19 slope: -0.358 s/lap\n",
      "Undercut pays after inf laps\n"
     ]
    }
   ],
   "source": [
    "from src.models.deg_model import fit_linear_deg, undercut_lap\n",
    "\n",
    "model, slope = fit_linear_deg(ham_spa)\n",
    "print(f\"Hamilton SPA-19 slope: {slope:+.3f} s/lap\")\n",
    "print(\"Undercut pays after\", undercut_lap(slope, pit_loss=22), \"laps\")\n"
   ]
  },
  {
   "cell_type": "code",
   "execution_count": 75,
   "id": "e2044be9-d3c6-484f-9627-e84897bfb697",
   "metadata": {},
   "outputs": [
    {
     "name": "stdout",
     "output_type": "stream",
     "text": [
      "Tyre-wear slope:  -0.1791  s per lap of wear\n",
      "Fuel-gain slope: -0.1791  s per lap of fuel burn\n",
      "Intercept (fresh‐tyre pace): 91.226 s\n"
     ]
    }
   ],
   "source": [
    "from sklearn.linear_model import LinearRegression\n",
    "import numpy as np\n",
    "import matplotlib.pyplot as plt\n",
    "\n",
    "# assume you have ham_spa DataFrame loaded from whichever race/stint\n",
    "# with columns: tyre_age, lap, milliseconds\n",
    "\n",
    "# 1️⃣ build X with both tyre_age and lap number\n",
    "X = ham_spa[[\"tyre_age\", \"lap\"]].values\n",
    "y = ham_spa[\"milliseconds\"].values / 1000  # seconds\n",
    "\n",
    "# 2️⃣ fit multi-variate regression\n",
    "reg = LinearRegression().fit(X, y)\n",
    "tyre_slope, fuel_slope = reg.coef_\n",
    "intercept = reg.intercept_\n",
    "\n",
    "print(f\"Tyre-wear slope:  {tyre_slope:+.4f}  s per lap of wear\")\n",
    "print(f\"Fuel-gain slope: {fuel_slope:+.4f}  s per lap of fuel burn\")\n",
    "print(f\"Intercept (fresh‐tyre pace): {intercept:.3f} s\")\n"
   ]
  },
  {
   "cell_type": "code",
   "execution_count": 76,
   "id": "bdfe324b-00af-4234-8f91-669239807238",
   "metadata": {},
   "outputs": [
    {
     "name": "stdout",
     "output_type": "stream",
     "text": [
      " year  event    slope\n",
      " 2022   1072 1.519491\n",
      " 2017    960 0.648468\n",
      " 2011    844 0.576820\n",
      " 2021   1057 0.571169\n",
      " 2018    977 0.541558\n"
     ]
    }
   ],
   "source": [
    "import pandas as pd\n",
    "import numpy as np\n",
    "from pathlib import Path\n",
    "from sklearn.linear_model import LinearRegression\n",
    "\n",
    "# ── 1) load CSVs ───────────────────────────────────────────────────\n",
    "DATA = Path(\"../data/ergast\")    # adjust path if needed\n",
    "laps   = pd.read_csv(DATA/\"lap_times.csv\")\n",
    "pits   = pd.read_csv(DATA/\"pit_stops.csv\")\n",
    "races  = pd.read_csv(DATA/\"races.csv\")\n",
    "drivers= pd.read_csv(DATA/\"drivers.csv\")[[\"driverId\",\"surname\"]]\n",
    "\n",
    "# ── 2) helper to build stint & tyre_age for one race ─────────────\n",
    "def make_laps(raceId):\n",
    "    df = laps[laps.raceId == raceId].copy()\n",
    "    df = df.merge(\n",
    "        pits[pits.raceId == raceId][[\"driverId\",\"lap\"]].assign(pit=1),\n",
    "        on=[\"driverId\",\"lap\"], how=\"left\"\n",
    "    )\n",
    "    df[\"pit\"] = df[\"pit\"].fillna(0).astype(int)\n",
    "    df[\"stint\"]    = df.groupby(\"driverId\")[\"pit\"].cumsum()\n",
    "    df[\"tyre_age\"] = df.groupby([\"driverId\",\"stint\"]).cumcount()\n",
    "    return df\n",
    "\n",
    "# ── 3) find Hamilton’s driverId ─────────────────────────────────\n",
    "ham_id = drivers.loc[drivers.surname == \"Hamilton\", \"driverId\"].iloc[0]\n",
    "\n",
    "# ── 4) scan races for stint-1 slope > 0 ───────────────────────────\n",
    "results = []\n",
    "for _, row in races.iterrows():\n",
    "    rid, yr, name = row.raceId, row.year, row.name\n",
    "    df_r = make_laps(rid)\n",
    "    ham_s1 = df_r[(df_r.driverId==ham_id) & (df_r.stint==1) & (df_r.pit==0)]\n",
    "    if len(ham_s1) < 10:   # skip very short stints\n",
    "        continue\n",
    "    X = ham_s1[\"tyre_age\"].values.reshape(-1,1)\n",
    "    y = ham_s1[\"milliseconds\"].values / 1000\n",
    "    slope = LinearRegression().fit(X, y).coef_[0]\n",
    "    results.append((yr, name, slope))\n",
    "\n",
    "# ── 5) tabulate & pick the top 5 positive slopes ────────────────\n",
    "df_res = pd.DataFrame(results, columns=[\"year\",\"event\",\"slope\"])\n",
    "df_pos = df_res[df_res.slope > 0].sort_values(\"slope\", ascending=False)\n",
    "print(df_pos.head(5).to_string(index=False))\n"
   ]
  },
  {
   "cell_type": "code",
   "execution_count": 77,
   "id": "735bf01c-155c-46b6-a906-a74fde0aef2b",
   "metadata": {},
   "outputs": [],
   "source": [
    "race_id = 1072\n",
    "\n",
    "# rebuild laps\n",
    "bhr_laps = laps[laps.raceId == race_id].copy()\n",
    "bhr_pits = pits[pits.raceId == race_id][[\"driverId\",\"lap\"]]\n",
    "bhr_laps = bhr_laps.merge(bhr_pits.assign(pit=1),\n",
    "                          on=[\"driverId\",\"lap\"], how=\"left\")\n",
    "bhr_laps[\"pit\"] = bhr_laps[\"pit\"].fillna(0).astype(int)\n",
    "bhr_laps[\"stint\"]    = bhr_laps.groupby(\"driverId\")[\"pit\"].cumsum()\n",
    "bhr_laps[\"tyre_age\"] = bhr_laps.groupby([\"driverId\",\"stint\"]).cumcount()\n"
   ]
  },
  {
   "cell_type": "code",
   "execution_count": 78,
   "id": "c8fb0a60-e98c-4481-a973-85191cfbffe1",
   "metadata": {},
   "outputs": [
    {
     "name": "stdout",
     "output_type": "stream",
     "text": [
      "Rows in HAM stint: 0\n"
     ]
    }
   ],
   "source": [
    "ham_id = drivers.query(\"surname=='Hamilton'\").driverId.iloc[0]\n",
    "\n",
    "ham_r1 = bhr_laps.query(\"driverId == @ham_id and stint == 1 and pit == 0\").copy()\n",
    "# if that’s empty, fall back to stint 0:\n",
    "if ham_r1.empty:\n",
    "    ham_r1 = bhr_laps.query(\"driverId == @ham_id and stint == 0 and pit == 0\").copy()\n",
    "\n",
    "from src.models.deg_model import clean_laps\n",
    "ham_clean = clean_laps(ham_r1)\n",
    "print(\"Rows in HAM stint:\", len(ham_clean))\n"
   ]
  },
  {
   "cell_type": "code",
   "execution_count": 79,
   "id": "59cfdb66-95c5-4776-9334-132e8c3bc6f8",
   "metadata": {},
   "outputs": [
    {
     "name": "stdout",
     "output_type": "stream",
     "text": [
      " stint  count  first_lap  last_lap\n",
      "     0      9          1         9\n",
      "     1      3         10        12\n",
      "     2      2         13        14\n",
      "     3     36         15        50\n"
     ]
    }
   ],
   "source": [
    "# all HAM laps in that race\n",
    "ham_all = bhr_laps[bhr_laps.driverId == ham_id].copy()\n",
    "\n",
    "# show stint → how many laps, lap-range\n",
    "stints = (\n",
    "    ham_all\n",
    "    .groupby(\"stint\")[\"lap\"]\n",
    "    .agg(count=\"count\", first_lap=\"min\", last_lap=\"max\")\n",
    "    .reset_index()\n",
    ")\n",
    "print(stints.to_string(index=False))\n"
   ]
  },
  {
   "cell_type": "code",
   "execution_count": 80,
   "id": "ae53e461-b65d-40bb-8092-9c462f70a071",
   "metadata": {},
   "outputs": [
    {
     "name": "stdout",
     "output_type": "stream",
     "text": [
      "Rows before clean_laps: 36\n",
      "Rows after clean_laps: 30\n"
     ]
    }
   ],
   "source": [
    "# ham_all already defined as all HAM laps for race 1072\n",
    "st_to_use = 3\n",
    "\n",
    "subset = ham_all[ham_all.stint == st_to_use].copy()\n",
    "print(\"Rows before clean_laps:\", len(subset))\n",
    "\n",
    "# clean_laps drops the single pit lap and any absurd outliers\n",
    "clean = clean_laps(subset)\n",
    "print(\"Rows after clean_laps:\", len(clean))\n"
   ]
  },
  {
   "cell_type": "code",
   "execution_count": 81,
   "id": "8f3b4c54-010f-4935-a54e-1c5fa2e0688c",
   "metadata": {},
   "outputs": [
    {
     "name": "stdout",
     "output_type": "stream",
     "text": [
      "HAM race1072 stint-3 slope: -0.164 s/lap\n",
      "Undercut pays after inf laps\n"
     ]
    }
   ],
   "source": [
    "model, slope = fit_linear_deg(clean)\n",
    "print(f\"HAM race1072 stint-{st_to_use} slope: {slope:+.3f} s/lap\")\n",
    "print(\"Undercut pays after\", undercut_lap(slope, pit_loss=22), \"laps\")\n"
   ]
  },
  {
   "cell_type": "code",
   "execution_count": 82,
   "id": "1eaa6fd4-fb44-423f-97be-7d1988d386e2",
   "metadata": {},
   "outputs": [
    {
     "data": {
      "image/png": "[encoded data removed]",
      "text/plain": [
       "<Figure size 600x400 with 1 Axes>"
      ]
     },
     "metadata": {},
     "output_type": "display_data"
    }
   ],
   "source": [
    "import matplotlib.pyplot as plt\n",
    "import numpy as np\n",
    "\n",
    "fig, ax = plt.subplots(figsize=(6,4))\n",
    "\n",
    "# scatter\n",
    "ax.scatter(\n",
    "    clean[\"tyre_age\"],\n",
    "    clean[\"milliseconds\"]/1000,\n",
    "    s=45, alpha=0.8,\n",
    "    label=\"Lap times\"\n",
    ")\n",
    "\n",
    "# regression line\n",
    "xs = np.arange(0, clean[\"tyre_age\"].max()+1)\n",
    "ax.plot(\n",
    "    xs,\n",
    "    model.predict(xs.reshape(-1,1)),\n",
    "    color=\"red\", lw=2.5,\n",
    "    label=f\"Fit (+{slope:.3f} s/lap)\"\n",
    ")\n",
    "\n",
    "# labels & style\n",
    "ax.set_xlabel(\"Tyre Age (laps)\")\n",
    "ax.set_ylabel(\"Lap Time (s)\")\n",
    "ax.set_title(f\"Hamilton – Race 1072 • Stint {st_to_use}\")\n",
    "ax.invert_xaxis()\n",
    "ax.grid(ls=\":\", lw=0.5)\n",
    "ax.legend()\n",
    "plt.tight_layout()\n",
    "plt.show()\n"
   ]
  },
  {
   "cell_type": "markdown",
   "id": "ad3aaa17-98f6-4656-808f-185145029471",
   "metadata": {},
   "source": [
    "**In Melbourne & Bahrain 2023, fuel burn-off (0.06 s/lap) outweighed tyre degradation (~0.02 s/lap), so lap-times improved on net. This demonstrates the need to model multiple factors, not just tyre age.**"
   ]
  },
  {
   "cell_type": "code",
   "execution_count": null,
   "id": "1590f1ab-79db-4f9b-95e4-3297f083d1a2",
   "metadata": {},
   "outputs": [],
   "source": []
  }
 ],
 "metadata": {
  "kernelspec": {
   "display_name": "Python 3 (ipykernel)",
   "language": "python",
   "name": "python3"
  },
  "language_info": {
   "codemirror_mode": {
    "name": "ipython",
    "version": 3
   },
   "file_extension": ".py",
   "mimetype": "text/x-python",
   "name": "python",
   "nbconvert_exporter": "python",
   "pygments_lexer": "ipython3",
   "version": "3.12.7"
  }
 },
 "nbformat": 4,
 "nbformat_minor": 5
}
